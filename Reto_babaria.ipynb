{
  "nbformat": 4,
  "nbformat_minor": 0,
  "metadata": {
    "colab": {
      "name": "Reto_babaria.ipynb",
      "provenance": [],
      "collapsed_sections": [],
      "include_colab_link": true
    },
    "kernelspec": {
      "name": "python3",
      "display_name": "Python 3"
    }
  },
  "cells": [
    {
      "cell_type": "markdown",
      "metadata": {
        "id": "view-in-github",
        "colab_type": "text"
      },
      "source": [
        "<a href=\"https://colab.research.google.com/github/cloaiza9509/RETO_BAVARIA/blob/main/Reto_babaria.ipynb\" target=\"_parent\"><img src=\"https://colab.research.google.com/assets/colab-badge.svg\" alt=\"Open In Colab\"/></a>"
      ]
    },
    {
      "cell_type": "code",
      "metadata": {
        "id": "qQhza5YU8-kE"
      },
      "source": [
        "#importar librerias\n",
        "import pandas as pd\n",
        "import numpy as np\n",
        "from sklearn import preprocessing\n",
        "import matplotlib.pyplot as plt \n",
        "plt.rc(\"font\", size=14)\n",
        "from sklearn.linear_model import LogisticRegression\n",
        "from sklearn.model_selection import train_test_split\n",
        "import seaborn as sns\n",
        "sns.set(style=\"white\")\n",
        "sns.set(style=\"whitegrid\", color_codes=True)"
      ],
      "execution_count": null,
      "outputs": []
    },
    {
      "cell_type": "code",
      "metadata": {
        "id": "WVGkpPuX9uYz"
      },
      "source": [
        "#CARGAR DATOS"
      ],
      "execution_count": null,
      "outputs": []
    },
    {
      "cell_type": "code",
      "metadata": {
        "id": "31izEeqz9HKk"
      },
      "source": [
        "#EDA BASE DE DATOS DE VENTAS"
      ],
      "execution_count": null,
      "outputs": []
    },
    {
      "cell_type": "code",
      "metadata": {
        "id": "YHFeCcaA99sO"
      },
      "source": [
        "#DEFINIR PERFIL DE LOS CLIENTES Y DE LOS PUNTOS DE VENTA"
      ],
      "execution_count": null,
      "outputs": []
    },
    {
      "cell_type": "code",
      "metadata": {
        "id": "s3lAmqMQ9NaH"
      },
      "source": [
        "# Analisis mapa"
      ],
      "execution_count": null,
      "outputs": []
    },
    {
      "cell_type": "code",
      "metadata": {
        "id": "CvgY-0wN9PFI"
      },
      "source": [
        "#Analisis pronostico"
      ],
      "execution_count": null,
      "outputs": []
    },
    {
      "cell_type": "code",
      "metadata": {
        "id": "HDBzO1CuG0L5"
      },
      "source": [
        "import pandas as pd\n",
        "import warnings\n",
        "warnings.filterwarnings(\"ignore\")\n",
        "import matplotlib.pyplot as plt\n",
        "import seaborn as sns\n",
        "import statsmodels.api as sm\n",
        "from statsmodels.stats.outliers_influence import variance_inflation_factor\n",
        "from statsmodels.tools.tools import add_constant\n",
        "\n"
      ],
      "execution_count": null,
      "outputs": []
    },
    {
      "cell_type": "code",
      "metadata": {
        "colab": {
          "base_uri": "https://localhost:8080/",
          "height": 269
        },
        "id": "NP0inkfYG5u3",
        "outputId": "f472582e-dd6d-472f-ee1f-1a58dbfd3ea4"
      },
      "source": [
        "data = pd.DataFrame({'X1': [1,2,3,4,5], \n",
        "                     'X2': [2,3,4,5,6],\n",
        "                     'X3': [2,6,3,7,1],\n",
        "                     'X4': [3,1,3,5,2],\n",
        "                     'Y' : [0,2,2,3,4]  })\n",
        "\n",
        "plt.rcParams[\"figure.figsize\"]=(8,4)\n",
        "sns.heatmap(data.corr())\n",
        "plt.show()\n"
      ],
      "execution_count": null,
      "outputs": [
        {
          "output_type": "display_data",
          "data": {
            "image/png": "[encoded data removed]",
            "text/plain": [
              "<Figure size 576x288 with 2 Axes>"
            ]
          },
          "metadata": {
            "tags": [],
            "needs_background": "light"
          }
        }
      ]
    },
    {
      "cell_type": "code",
      "metadata": {
        "id": "bge1hYOIDaL7"
      },
      "source": [
        "#Validacion de multicolinealidad\n",
        "#La multicolinealidad se refiere a una situación en la que dos o más variables explicativas en un modelo de regresión múltiple están altamente relacionadas linealmente . La multicolinealidad ocurre cuando su modelo incluye múltiples factores que están correlacionados no solo con su variable objetivo, sino también entre sí.\n",
        "#Uso del mapa de calor del coeficiente de correlación (referencia:https://medium.com/analytics-vidhya/removing-multi-collinearity-for-linear-and-logistic-regression-f1fa744f3666)\n",
        "#.Cuanto mayor sea el valor de VIF, mayor es la posibilidad de eliminar la columna mientras se realiza el modelo de regresión real.\n",
        "def get_VIF(dataFrame,target):\n",
        "      X = add_constant(dataFrame.loc[:, dataFrame.columns != target])\n",
        "      seriesobject = pd.Series([variance_inflation_factor(X.values,i) for i in range(X.shape[1])],index=X.columns,)\n",
        "      return seriesobject"
      ],
      "execution_count": null,
      "outputs": []
    },
    {
      "cell_type": "code",
      "metadata": {
        "colab": {
          "base_uri": "https://localhost:8080/"
        },
        "id": "af83vSkGGMbL",
        "outputId": "a7cac682-a29f-4a91-fc69-3494340c682f"
      },
      "source": [
        "target='Y'\n",
        "print(get_VIF(data,target))\n"
      ],
      "execution_count": null,
      "outputs": [
        {
          "output_type": "stream",
          "text": [
            "const    0.000000\n",
            "X1            inf\n",
            "X2            inf\n",
            "X3       1.129667\n",
            "X4       1.179045\n",
            "dtype: float64\n"
          ],
          "name": "stdout"
        }
      ]
    },
    {
      "cell_type": "code",
      "metadata": {
        "colab": {
          "base_uri": "https://localhost:8080/",
          "height": 129
        },
        "id": "tz4Dp2LBIwpD",
        "outputId": "d9e73786-6529-4f0c-f9b4-acf74a7a2a43"
      },
      "source": [
        "print(get_VIF(data,target)"
      ],
      "execution_count": null,
      "outputs": [
        {
          "output_type": "error",
          "ename": "SyntaxError",
          "evalue": "ignored",
          "traceback": [
            "\u001b[0;36m  File \u001b[0;32m\"<ipython-input-27-2d9e318e0fb0>\"\u001b[0;36m, line \u001b[0;32m1\u001b[0m\n\u001b[0;31m    print(get_VIF(data,target)\u001b[0m\n\u001b[0m                              ^\u001b[0m\n\u001b[0;31mSyntaxError\u001b[0m\u001b[0;31m:\u001b[0m unexpected EOF while parsing\n"
          ]
        }
      ]
    },
    {
      "cell_type": "code",
      "metadata": {
        "colab": {
          "base_uri": "https://localhost:8080/"
        },
        "id": "EdLHRvXpIOoZ",
        "outputId": "012337eb-106f-49b8-c8bf-1ca06557a684"
      },
      "source": [
        "def get_VIF(dataFrame , target):\n",
        "    X = add_constant(dataFrame.loc[:, dataFrame.columns != target])\n",
        "    seriesObject = pd.Series([variance_inflation_factor(X.values,i) for i in range(X.shape[1])] , index=X.columns,)\n",
        "    return seriesObject\n",
        "\n",
        "target = 'Y'\n",
        "print(get_VIF(data,target))"
      ],
      "execution_count": null,
      "outputs": [
        {
          "output_type": "stream",
          "text": [
            "const    0.000000\n",
            "X1            inf\n",
            "X2            inf\n",
            "X3       1.129667\n",
            "X4       1.179045\n",
            "dtype: float64\n"
          ],
          "name": "stdout"
        }
      ]
    },
    {
      "cell_type": "code",
      "metadata": {
        "id": "yAzJ32Mg9Q30"
      },
      "source": [
        "#Regresion logistica, validacion de supuestos y verificar AUC"
      ],
      "execution_count": null,
      "outputs": []
    },
    {
      "cell_type": "code",
      "metadata": {
        "id": "uzv1yQ4v9VLa"
      },
      "source": [
        "####referenica\n",
        "#https://rstudio-pubs-static.s3.amazonaws.com/478687_f360ab8b89ae40ea89cf915cd4dcc5d9.html\n",
        "#https://towardsdatascience.com/building-a-logistic-regression-in-python-step-by-step-becd4d56c9c8\n",
        "#cuando estaria comprando\n",
        "#https://towardsdatascience.com/predicting-next-purchase-day-15fae5548027"
      ],
      "execution_count": null,
      "outputs": []
    },
    {
      "cell_type": "code",
      "metadata": {
        "id": "91CdOxap-sI4"
      },
      "source": [
        ""
      ],
      "execution_count": null,
      "outputs": []
    }
  ]
}